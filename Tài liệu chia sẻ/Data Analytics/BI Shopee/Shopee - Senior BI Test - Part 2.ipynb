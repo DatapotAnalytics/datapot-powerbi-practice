{
 "cells": [
  {
   "cell_type": "markdown",
   "id": "90893e76",
   "metadata": {},
   "source": [
    "# Part 2: Writing Pseudocodes & Python Codes"
   ]
  },
  {
   "cell_type": "markdown",
   "id": "a94eb90d",
   "metadata": {},
   "source": [
    "### 1. Write a function that will be able to return the smallest positive integer missing from an unsorted array. \n",
    "For example: \n",
    "\n",
    "Input: [2, 3, -7, 6, 8, 1, -10, 15, -35] \n",
    "\n",
    "Output: 4\n"
   ]
  },
  {
   "cell_type": "code",
   "execution_count": 37,
   "id": "54844280",
   "metadata": {},
   "outputs": [
    {
     "name": "stdout",
     "output_type": "stream",
     "text": [
      "Smallest missing positive integer: 9\n"
     ]
    }
   ],
   "source": [
    "def find_smallest_missing_positive(nums):\n",
    "\n",
    "   # Handle edge cases: empty array or all elements negative\n",
    "    if not nums or all(num < 1 for num in nums):\n",
    "        return 1\n",
    "\n",
    "    # Mark potential missing positive integers as negative in-place\n",
    "    for i in range(len(nums)):\n",
    "        num = abs(nums[i])  # Handle duplicates by using absolute value\n",
    "        if 1 <= num <= len(nums):\n",
    "            nums[num - 1] = -abs(nums[num - 1])  # Use absolute value to ensure correct negation\n",
    "\n",
    "    # Find the first index with a positive value (indicating a missing integer)\n",
    "    for i in range(len(nums)):\n",
    "        if nums[i] > 0:\n",
    "            return i + 1\n",
    "\n",
    "    # All positive integers are present\n",
    "    return len(nums) + 1\n",
    "\n",
    "# Example usage\n",
    "nums = [2, -7, 6, 8, 1,3, 4, 5,6,7,-10, 15, -35]\n",
    "missing_integer = find_smallest_missing_positive(nums)\n",
    "print(f\"Smallest missing positive integer: {missing_integer}\")"
   ]
  },
  {
   "cell_type": "markdown",
   "id": "cacdf375",
   "metadata": {},
   "source": [
    "### 2. Write a function that will be able to return the Nth element from the following sequence: 0, 3, 3, 6, 9, 15, 24, 39, 63, 102, 165,... \n",
    "For e.g. \n",
    "\n",
    "if N = 3, output = 3 \n",
    "\n",
    "if N = 7, output = 24\n"
   ]
  },
  {
   "cell_type": "code",
   "execution_count": 35,
   "id": "968e25a0",
   "metadata": {},
   "outputs": [
    {
     "name": "stdout",
     "output_type": "stream",
     "text": [
      "3\n",
      "24\n"
     ]
    }
   ],
   "source": [
    "def nth_element(n):\n",
    "    a = 0\n",
    "    b = 3\n",
    "    for _ in range(n-1):\n",
    "        a, b = b, a + b\n",
    "    return a\n",
    "\n",
    "print(nth_element(3))\n",
    "print(nth_element(7))"
   ]
  },
  {
   "cell_type": "markdown",
   "id": "cdf536eb",
   "metadata": {},
   "source": [
    "### 3. Write a function that will be able to remove duplicates from a given array. \n",
    "Output requirements: \n",
    "\n",
    "a.\tArray consists of a unique list of strings \n",
    "\n",
    "b.\tAscending order \n",
    "\n",
    "c.\tFirst letter of each array element (string) capitalized \n",
    "\n",
    "d.\tAll trailing and leading spaces removed \n",
    "\n",
    "For example: \n",
    "\n",
    "Input: [‘Panasonic’, pensonic’, ‘panasonic ‘, ‘Haier’, ‘electrolux ’, ‘ Electrolux’] \n",
    "\n",
    "Output: [‘Electrolux’, ‘Haier’, Panasonic’, ‘Pensonic’]\n"
   ]
  },
  {
   "cell_type": "code",
   "execution_count": 36,
   "id": "12097f52",
   "metadata": {},
   "outputs": [
    {
     "name": "stdout",
     "output_type": "stream",
     "text": [
      "Unique strings in ascending order: ['A rinez', 'Electrolux', 'Haier', 'Panasonic', 'Pensonic', 'Rinez']\n"
     ]
    }
   ],
   "source": [
    "def remove_duplicates(data):\n",
    "\n",
    "    # Convert to lowercase for case-insensitive comparison\n",
    "    data_lower = [x.lower().strip() for x in data]\n",
    "\n",
    "    # Use a set to remove duplicates\n",
    "    unique_data = set(data_lower)\n",
    "\n",
    "    # Convert back to list and sort\n",
    "    unique_list = list(unique_data)\n",
    "    unique_list.sort()\n",
    "\n",
    "    # Capitalize first letter and return\n",
    "    return [x.capitalize() for x in unique_list]\n",
    "\n",
    "# Example usage\n",
    "data = ['Panasonic', 'pensonic', 'panasonic ', 'Haier', 'electrolux ', ' Electrolux', 'Rinez', 'rinez   ', 'A RinEz   ']\n",
    "unique_data = remove_duplicates(data)\n",
    "print(f\"Unique strings in ascending order: {unique_data}\")"
   ]
  },
  {
   "cell_type": "code",
   "execution_count": null,
   "id": "c7be2de2",
   "metadata": {},
   "outputs": [],
   "source": []
  }
 ],
 "metadata": {
  "kernelspec": {
   "display_name": "Python 3 (ipykernel)",
   "language": "python",
   "name": "python3"
  },
  "language_info": {
   "codemirror_mode": {
    "name": "ipython",
    "version": 3
   },
   "file_extension": ".py",
   "mimetype": "text/x-python",
   "name": "python",
   "nbconvert_exporter": "python",
   "pygments_lexer": "ipython3",
   "version": "3.9.13"
  }
 },
 "nbformat": 4,
 "nbformat_minor": 5
}
